{
 "cells": [
  {
   "cell_type": "code",
   "execution_count": 1,
   "metadata": {},
   "outputs": [],
   "source": [
    "# uncomment these lines for one time install of required packages\n",
    "\n",
    "# !conda install -c conda-forge geopy --yes \n",
    "# !pip install geocoder\n",
    "# !pip install --upgrade pandas pgeocode\n",
    "# !pip install pgeocode\n",
    "# !conda install -c conda-forge folium=0.5.0 --yes\n",
    "\n",
    "import pandas as pd                     # For Dataframes, plotting etc\n",
    "import numpy as np                      # For Mathematical calculation \n",
    "import zipfile                          # For unzipping the web scraped files\n",
    "import os                               # For correcting the file paths\n",
    "import requests                         # For geting files and jsons\n",
    "import json                             # For reading and wrangling json files\n",
    "from bs4 import BeautifulSoup           # For scraping html data from websites\n",
    "from pandas import json_normalize       # For formatting the jsons readable\n",
    "import folium                           # For plotting maps\n",
    "import matplotlib as plt                # For plotting charts\n",
    "import matplotlib.cm as cm              # For functions to handle colormaps\n",
    "import matplotlib.colors as colors      # For colour maps\n",
    "import pgeocode                         # For getting lat and lon for postal codes\n",
    "from geopy.geocoders import Nominatim   # For address into latitude and longitude values on maps\n",
    "from sklearn.cluster import KMeans      # import k-means from clustering stage\n",
    "import warnings                         # For ignoreing all warnings \n",
    "warnings.filterwarnings('ignore')\n",
    "pd.set_option('display.max_columns', None)\n",
    "pd.set_option('display.max_rows', None)"
   ]
  },
  {
   "cell_type": "code",
   "execution_count": 2,
   "metadata": {},
   "outputs": [
    {
     "name": "stdout",
     "output_type": "stream",
     "text": [
      "File downloaded successfully!\n",
      "File unzipped successfully!\n"
     ]
    }
   ],
   "source": [
    "# Does Toronto have 103 postal codes? lets check another website for counts of postal codes in Toronto city\n",
    "# # URL of the file to be downloaded\n",
    "url = 'https://download.geonames.org/export/zip/CA_full.csv.zip'\n",
    "\n",
    "# Send a GET request to the URL\n",
    "response = requests.get(url)\n",
    "\n",
    "# Check if the request was successful\n",
    "if response.status_code == 200:\n",
    "    # Save the content to a file\n",
    "    zip_file_path = 'CA_full.csv.zip'\n",
    "    with open(zip_file_path, 'wb') as file:\n",
    "        file.write(response.content)\n",
    "    print('File downloaded successfully!')\n",
    "\n",
    "    # Unzip the file\n",
    "    extract_path = 'extracted_files'\n",
    "    with zipfile.ZipFile(zip_file_path, 'r') as zip_ref:\n",
    "        zip_ref.extractall(extract_path)\n",
    "    print('File unzipped successfully!')\n",
    "\n",
    "    # Optionally, remove the zip file after extraction\n",
    "    os.remove(zip_file_path)\n",
    "else:\n",
    "    print('Failed to download the file.')"
   ]
  },
  {
   "cell_type": "code",
   "execution_count": 3,
   "metadata": {},
   "outputs": [
    {
     "name": "stdout",
     "output_type": "stream",
     "text": [
      "Count of distinct values of Toronto Postal codes is: 103\n"
     ]
    }
   ],
   "source": [
    "# Read the file\n",
    "file_path = 'extracted_files/CA_full.txt'\n",
    "with open(file_path, 'r') as file:\n",
    "    lines = file.readlines()\n",
    "\n",
    "# Filter lines where the text after \"CA\" and the tab starts with \"M\"\n",
    "filtered_lines = [line for line in lines if line.split('\\t')[1].startswith('M')]\n",
    "\n",
    "# Create a DataFrame from the filtered lines\n",
    "data = [line.strip().split('\\t') for line in filtered_lines]\n",
    "df = pd.DataFrame(data, columns=['Country', 'Postal Code', 'Place Name', 'Province', 'Province Abbreviation', 'Column6', 'Column7', 'Column8', 'Latitude', 'Longitude', 'Column11', 'Column12'])\n",
    "\n",
    "# Split the postal code into two parts\n",
    "df['Postal Code Part 1'] = df['Postal Code'].str[:3]\n",
    "df['Postal Code Part 2'] = df['Postal Code'].str[3:]\n",
    "\n",
    "# Count distinct values in \"Postal Code Part 1\"\n",
    "distinct_count = df['Postal Code Part 1'].nunique()\n",
    "\n",
    "# Display the count\n",
    "print(f\"Count of distinct values of Toronto Postal codes is: {distinct_count}\")"
   ]
  }
 ],
 "metadata": {
  "kernelspec": {
   "display_name": "dev",
   "language": "python",
   "name": "python3"
  },
  "language_info": {
   "codemirror_mode": {
    "name": "ipython",
    "version": 3
   },
   "file_extension": ".py",
   "mimetype": "text/x-python",
   "name": "python",
   "nbconvert_exporter": "python",
   "pygments_lexer": "ipython3",
   "version": "3.10.15"
  }
 },
 "nbformat": 4,
 "nbformat_minor": 2
}
